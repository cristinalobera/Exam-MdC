{
 "cells": [
  {
   "cell_type": "markdown",
   "id": "138567fc",
   "metadata": {},
   "source": [
    "# Exam 01 Coding: Flatten Json\n",
    "\n",
    "Without using any external libaries, implement a `flat_dictionary` function capable to \"flatten out\" a python dictionary.\n",
    "\n",
    "Input:\n",
    "\n",
    "```\n",
    "{\n",
    "    \"a\": 1,\n",
    "    \"b\": {\n",
    "        \"c\": 2,\n",
    "        \"d\": 3\n",
    "    }\n",
    "}\n",
    "```\n",
    "\n",
    "Output:\n",
    "\n",
    "```\n",
    "{\n",
    "    \"a\": 1,\n",
    "    \"b.c\": 2,\n",
    "    \"b.d\": 3\n",
    "}\n",
    "```\n",
    "\n",
    "Consider that the json might contain:\n",
    "* Other json structures\n",
    "* Lists\n",
    "\n",
    "Grading:\n",
    "* **(5 pts)** The `flat_dictionary` is correctly implemented (no errors on execution).\n",
    "* **(5 pts)** Only allowed libraries were used (`json`)\n",
    "* **(5 pts)** The `flat_dictionary` function is recursive.\n",
    "* **(5 pts)** EX-1 Returns the correct result\n",
    "* **(5 pts)** EX-2 Returns the correct result\n",
    "* **(5 pts)** EX-3 Returns the correct result\n",
    "* **(5 pts)** EX-4 Returns the correct result\n",
    "* **(5 pts)** EX-5 Returns the correct result\n"
   ]
  },
  {
   "cell_type": "code",
   "execution_count": 1,
   "id": "97b37abc",
   "metadata": {},
   "outputs": [],
   "source": [
    "import os\n",
    "import json\n",
    "from typing import Dict\n",
    "\n",
    "\n",
    "def display(dictionary: Dict):\n",
    "    print(json.dumps(dictionary, indent=4))\n"
   ]
  },
  {
   "cell_type": "markdown",
   "id": "95cc74da",
   "metadata": {},
   "source": [
    "Implement the `flat_dictionary` function:"
   ]
  },
  {
   "cell_type": "code",
   "execution_count": 174,
   "id": "517f78a9",
   "metadata": {},
   "outputs": [],
   "source": [
    "# (5 pts) The `flat_dictionary` is correctly implemented (no errors on execution).\n",
    "# (5 pts) The `flat_dictionary` function is recursive.\n",
    "\n",
    "def flat_dictionary(dictionary: Dict, **kwargs):\n",
    "    out = {}\n",
    "\n",
    "    def flatten(d, name='', sep='.'):\n",
    "        if type(d) is dict:\n",
    "            for a in d:\n",
    "                flatten(d[a], name + a + sep)\n",
    "        elif type(d) is list:\n",
    "            i = 0\n",
    "            for a in d:\n",
    "                flatten(a, name + str(i) + sep)\n",
    "                i += 1\n",
    "        else:\n",
    "            out[name[:-1]] = d\n",
    "\n",
    "    flatten(dictionary)\n",
    "    return out\n",
    "    pass"
   ]
  },
  {
   "cell_type": "markdown",
   "id": "ba6cb5cc",
   "metadata": {},
   "source": [
    "## EXAMPLES\n",
    "\n",
    "Given a flat dictionary, your solution should return the exact same dictionary."
   ]
  },
  {
   "cell_type": "code",
   "execution_count": 175,
   "id": "3eb8452f",
   "metadata": {},
   "outputs": [
    {
     "name": "stdout",
     "output_type": "stream",
     "text": [
      "{\n",
      "    \"a\": 1,\n",
      "    \"b\": 2,\n",
      "    \"c\": 3\n",
      "}\n"
     ]
    }
   ],
   "source": [
    "example_flat_dictionary = {\n",
    "    \"a\": 1,\n",
    "    \"b\": 2,\n",
    "    \"c\": 3\n",
    "}\n",
    "\n",
    "display(example_flat_dictionary)"
   ]
  },
  {
   "cell_type": "code",
   "execution_count": 176,
   "id": "94a0d6fc",
   "metadata": {},
   "outputs": [
    {
     "name": "stdout",
     "output_type": "stream",
     "text": [
      "{\n",
      "    \"a\": 1,\n",
      "    \"b\": 2,\n",
      "    \"c\": 3\n",
      "}\n"
     ]
    }
   ],
   "source": [
    "res = flat_dictionary(example_flat_dictionary)\n",
    "display(res)"
   ]
  },
  {
   "cell_type": "markdown",
   "id": "075ff7d1",
   "metadata": {},
   "source": [
    "You can have multiple nested dictionaries:"
   ]
  },
  {
   "cell_type": "code",
   "execution_count": 177,
   "id": "c0acc22c",
   "metadata": {},
   "outputs": [
    {
     "name": "stdout",
     "output_type": "stream",
     "text": [
      "{\n",
      "    \"a\": {\n",
      "        \"b\": 1,\n",
      "        \"c\": 2\n",
      "    },\n",
      "    \"d\": {\n",
      "        \"e\": 3,\n",
      "        \"f\": 4\n",
      "    }\n",
      "}\n",
      "{\n",
      "    \"a.b\": 1,\n",
      "    \"a.c\": 2,\n",
      "    \"d.e\": 3,\n",
      "    \"d.f\": 4\n",
      "}\n"
     ]
    }
   ],
   "source": [
    "example_input_with_nested_dictionaries = {\n",
    "    \"a\": {\n",
    "      \"b\": 1,\n",
    "      \"c\": 2\n",
    "    },\n",
    "    \"d\": {\n",
    "      \"e\": 3,\n",
    "      \"f\": 4\n",
    "    }\n",
    "}\n",
    "\n",
    "res = flat_dictionary(example_input_with_nested_dictionaries)\n",
    "\n",
    "display(example_input_with_nested_dictionaries)\n",
    "display(res)"
   ]
  },
  {
   "cell_type": "markdown",
   "id": "569bdc75",
   "metadata": {},
   "source": [
    "Consider that you should also flatten lists! In this case, you should add the index of each element into the dictionary key."
   ]
  },
  {
   "cell_type": "code",
   "execution_count": 178,
   "id": "b4189ce7",
   "metadata": {},
   "outputs": [
    {
     "name": "stdout",
     "output_type": "stream",
     "text": [
      "{\n",
      "    \"a\": [\n",
      "        \"b\",\n",
      "        \"c\",\n",
      "        \"d\"\n",
      "    ]\n",
      "}\n",
      "{\n",
      "    \"a.0\": \"b\",\n",
      "    \"a.1\": \"c\",\n",
      "    \"a.2\": \"d\"\n",
      "}\n"
     ]
    }
   ],
   "source": [
    "example_input_with_lists = {\n",
    "  \"a\": [\"b\", \"c\", \"d\"]\n",
    "}\n",
    "\n",
    "res = flat_dictionary(example_input_with_lists)\n",
    "\n",
    "display(example_input_with_lists)\n",
    "display(res)"
   ]
  },
  {
   "cell_type": "markdown",
   "id": "872af923",
   "metadata": {},
   "source": [
    "## (5 pts) EX-1\n",
    "\n",
    "Your solution should be able to flatten a dictionary that contains another dictionary (e.g., dictionaries with dictionaries)\n"
   ]
  },
  {
   "cell_type": "code",
   "execution_count": 179,
   "id": "bf032a5a",
   "metadata": {},
   "outputs": [
    {
     "name": "stdout",
     "output_type": "stream",
     "text": [
      "{\n",
      "    \"a\": 1,\n",
      "    \"b\": 2,\n",
      "    \"c\": {\n",
      "        \"d\": 5,\n",
      "        \"e\": 6\n",
      "    }\n",
      "}\n"
     ]
    }
   ],
   "source": [
    "input_test_1 = {\n",
    "    \"a\": 1,\n",
    "    \"b\": 2,\n",
    "    \"c\": {\n",
    "        \"d\": 5,\n",
    "        \"e\": 6\n",
    "    }\n",
    "}\n",
    "\n",
    "display(input_test_1)"
   ]
  },
  {
   "cell_type": "code",
   "execution_count": 180,
   "id": "0a70a9da",
   "metadata": {},
   "outputs": [
    {
     "name": "stdout",
     "output_type": "stream",
     "text": [
      "{\n",
      "    \"a\": 1,\n",
      "    \"b\": 2,\n",
      "    \"c.d\": 5,\n",
      "    \"c.e\": 6\n",
      "}\n"
     ]
    }
   ],
   "source": [
    "res = flat_dictionary(input_test_1)\n",
    "display(res)"
   ]
  },
  {
   "cell_type": "markdown",
   "id": "e68016f4",
   "metadata": {},
   "source": [
    "## (5 pts) EX-2\n",
    "\n",
    "Consider that the dictionary can contain an arbitrary number of nested levels."
   ]
  },
  {
   "cell_type": "code",
   "execution_count": 181,
   "id": "85466858",
   "metadata": {
    "scrolled": true
   },
   "outputs": [
    {
     "name": "stdout",
     "output_type": "stream",
     "text": [
      "{\n",
      "    \"a\": 1,\n",
      "    \"b\": 2,\n",
      "    \"c\": {\n",
      "        \"d\": 5,\n",
      "        \"e\": 6\n",
      "    },\n",
      "    \"f\": {\n",
      "        \"g\": 7,\n",
      "        \"h\": {\n",
      "            \"i\": {\n",
      "                \"j\": 8\n",
      "            }\n",
      "        }\n",
      "    }\n",
      "}\n"
     ]
    }
   ],
   "source": [
    "input_test_2 = {\n",
    "    \"a\": 1,\n",
    "    \"b\": 2,\n",
    "    \"c\": {\n",
    "        \"d\": 5,\n",
    "        \"e\": 6\n",
    "    },\n",
    "    \"f\": {\n",
    "        \"g\": 7,\n",
    "        \"h\": {\n",
    "            \"i\": {\n",
    "                \"j\": 8\n",
    "            }\n",
    "        }\n",
    "    }\n",
    "}\n",
    "\n",
    "\n",
    "display(input_test_2)"
   ]
  },
  {
   "cell_type": "code",
   "execution_count": 182,
   "id": "73a0061d",
   "metadata": {},
   "outputs": [
    {
     "name": "stdout",
     "output_type": "stream",
     "text": [
      "{\n",
      "    \"a\": 1,\n",
      "    \"b\": 2,\n",
      "    \"c.d\": 5,\n",
      "    \"c.e\": 6,\n",
      "    \"f.g\": 7,\n",
      "    \"f.h.i.j\": 8\n",
      "}\n"
     ]
    }
   ],
   "source": [
    "res = flat_dictionary(input_test_2)\n",
    "display(res)"
   ]
  },
  {
   "cell_type": "markdown",
   "id": "e55b8fce",
   "metadata": {},
   "source": [
    "## (5 pts) EX-3\n",
    "\n",
    "If the dictionary contains a list with values, the flat version should use the \"index\" as a key.\n"
   ]
  },
  {
   "cell_type": "code",
   "execution_count": 183,
   "id": "93c9c179",
   "metadata": {},
   "outputs": [
    {
     "name": "stdout",
     "output_type": "stream",
     "text": [
      "{\n",
      "    \"a\": 1,\n",
      "    \"b\": 2,\n",
      "    \"c\": [\n",
      "        3,\n",
      "        4,\n",
      "        5\n",
      "    ]\n",
      "}\n"
     ]
    }
   ],
   "source": [
    "input_test_3 = {\n",
    "    \"a\": 1,\n",
    "    \"b\": 2,\n",
    "    \"c\": [\n",
    "        3,\n",
    "        4,\n",
    "        5\n",
    "    ]\n",
    "}\n",
    "\n",
    "display(input_test_3)"
   ]
  },
  {
   "cell_type": "code",
   "execution_count": 184,
   "id": "f09480cd",
   "metadata": {},
   "outputs": [
    {
     "name": "stdout",
     "output_type": "stream",
     "text": [
      "{\n",
      "    \"a\": 1,\n",
      "    \"b\": 2,\n",
      "    \"c.0\": 3,\n",
      "    \"c.1\": 4,\n",
      "    \"c.2\": 5\n",
      "}\n"
     ]
    }
   ],
   "source": [
    "res = flat_dictionary(input_test_3)\n",
    "display(res)"
   ]
  },
  {
   "cell_type": "markdown",
   "id": "fc6a88ca",
   "metadata": {},
   "source": [
    "## (5 pts) EX-4\n",
    "\n",
    "Note that a list can contain more dictionaries and/or more lists. Everything should be flatten out in the final result.\n"
   ]
  },
  {
   "cell_type": "code",
   "execution_count": 185,
   "id": "219d8e5f",
   "metadata": {},
   "outputs": [
    {
     "name": "stdout",
     "output_type": "stream",
     "text": [
      "{\n",
      "    \"a\": 1,\n",
      "    \"b\": [\n",
      "        {\n",
      "            \"c\": 2\n",
      "        },\n",
      "        {\n",
      "            \"d\": 3,\n",
      "            \"e\": {\n",
      "                \"f\": 4,\n",
      "                \"g\": 5\n",
      "            }\n",
      "        }\n",
      "    ]\n",
      "}\n"
     ]
    }
   ],
   "source": [
    "input_test_4 = {\n",
    "    \"a\": 1,\n",
    "    \"b\": [\n",
    "        {\n",
    "            \"c\": 2\n",
    "        },\n",
    "        {\n",
    "            \"d\": 3,\n",
    "            \"e\": {\n",
    "                \"f\": 4,\n",
    "                \"g\": 5\n",
    "            }\n",
    "        }\n",
    "    ]\n",
    "}\n",
    "\n",
    "display(input_test_4)"
   ]
  },
  {
   "cell_type": "code",
   "execution_count": 186,
   "id": "bb2bef41",
   "metadata": {},
   "outputs": [
    {
     "name": "stdout",
     "output_type": "stream",
     "text": [
      "{\n",
      "    \"a\": 1,\n",
      "    \"b.0.c\": 2,\n",
      "    \"b.1.d\": 3,\n",
      "    \"b.1.e.f\": 4,\n",
      "    \"b.1.e.g\": 5\n",
      "}\n"
     ]
    }
   ],
   "source": [
    "res = flat_dictionary(input_test_4)\n",
    "display(res)"
   ]
  },
  {
   "cell_type": "markdown",
   "id": "e593c215",
   "metadata": {},
   "source": [
    "## 5 pts) EX-5\n",
    "\n",
    "Final test case."
   ]
  },
  {
   "cell_type": "code",
   "execution_count": 187,
   "id": "e67d5d8e",
   "metadata": {},
   "outputs": [],
   "source": [
    "input_test_5 = {\n",
    "    \"a\": 1,\n",
    "    \"b\": [\n",
    "        {\n",
    "            \"c\": 2\n",
    "        },\n",
    "        {\n",
    "            \"d\": 3,\n",
    "            \"e\": [\n",
    "                4,\n",
    "                5,\n",
    "                {\n",
    "                    \"f\": {\n",
    "                        \"g\": 6\n",
    "                    }\n",
    "                }\n",
    "            ]\n",
    "        }\n",
    "    ]\n",
    "}"
   ]
  },
  {
   "cell_type": "code",
   "execution_count": 188,
   "id": "28e43a7d",
   "metadata": {},
   "outputs": [
    {
     "name": "stdout",
     "output_type": "stream",
     "text": [
      "{\n",
      "    \"a\": 1,\n",
      "    \"b.0.c\": 2,\n",
      "    \"b.1.d\": 3,\n",
      "    \"b.1.e.0\": 4,\n",
      "    \"b.1.e.1\": 5,\n",
      "    \"b.1.e.2.f.g\": 6\n",
      "}\n"
     ]
    }
   ],
   "source": [
    "res = flat_dictionary(input_test_5)\n",
    "display(res)"
   ]
  },
  {
   "cell_type": "code",
   "execution_count": null,
   "id": "65d50893",
   "metadata": {},
   "outputs": [],
   "source": []
  }
 ],
 "metadata": {
  "kernelspec": {
   "display_name": "Python 3",
   "language": "python",
   "name": "python3"
  },
  "language_info": {
   "codemirror_mode": {
    "name": "ipython",
    "version": 3
   },
   "file_extension": ".py",
   "mimetype": "text/x-python",
   "name": "python",
   "nbconvert_exporter": "python",
   "pygments_lexer": "ipython3",
   "version": "3.8.8"
  }
 },
 "nbformat": 4,
 "nbformat_minor": 5
}
